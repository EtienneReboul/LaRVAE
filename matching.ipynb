{
 "cells": [
  {
   "cell_type": "code",
   "execution_count": 1,
   "metadata": {},
   "outputs": [],
   "source": [
    "import selfies as sf\n",
    "import pandas as pd\n",
    "import difflib\n",
    "import numpy as np\n",
    "from collections import Counter"
   ]
  },
  {
   "cell_type": "code",
   "execution_count": 2,
   "metadata": {},
   "outputs": [],
   "source": [
    "def tokenizer(mol,mol_encoding='selfies'):\n",
    "    if mol_encoding=='smiles':\n",
    "        \"Tokenizes SMILES string\"\n",
    "        pattern =  \"(\\[[^\\]]+]|Br?|Cl?|N|O|S|P|F|I|b|c|n|o|s|p|\\(|\\)|\\.|=|#|-|\\+|\\\\\\\\|\\/|_|:|~|@|\\?|>|\\*|\\$|\\%[0-9]{2}|[0-9])\"\n",
    "        regezz = re.compile(pattern)\n",
    "        tokens = [token for token in regezz.findall(mol)]\n",
    "    elif mol_encoding=='selfies':\n",
    "        tokens=[block+\"]\" for block in mol.split(\"]\")][:-1]\n",
    "    else:\n",
    "        raise NameError('expected mol encoding to be smiles or selfies')\n",
    "    assert mol == ''.join(tokens), (\"{} could not be joined\".format(mol))\n",
    "    return tokens"
   ]
  },
  {
   "cell_type": "code",
   "execution_count": 3,
   "metadata": {},
   "outputs": [],
   "source": [
    "def get_unmatched_toks(selfie, stable_selfie):\n",
    "    s = difflib.SequenceMatcher(None, tokenizer(selfie), tokenizer(stable_selfie))\n",
    "    unused_toks = []\n",
    "    start = 0\n",
    "    cur_b = 0\n",
    "    for match in s.get_matching_blocks():\n",
    "        if match.a != 0: #after first match\n",
    "            selfie_missing = [i for i in range(start, match.a)]\n",
    "            if selfie_missing: #not empty\n",
    "                if cur_b != match.b:\n",
    "                    stable_missing = [i for i in range(cur_b, match.b)]\n",
    "                else:\n",
    "                    stable_missing = []\n",
    "                unused_toks.append((selfie_missing, stable_missing))\n",
    "        start = match.a + match.size\n",
    "        cur_b = match.b + match.size\n",
    "    return unused_toks"
   ]
  },
  {
   "cell_type": "code",
   "execution_count": 10,
   "metadata": {},
   "outputs": [],
   "source": [
    "def identify_situation(unused_toks, selfie, stable_selfie):\n",
    "    cases = [0, 0, 0, 0, 0]\n",
    "    annotation = annotateSelfie(selfie)\n",
    "    stable_annotation = annotateSelfie(stable_selfie)\n",
    "    for toks, stable_toks in unused_toks:\n",
    "        if toks:\n",
    "            l1 = [annotation[i] for i in toks]\n",
    "        else:\n",
    "            l1 = []\n",
    "        if stable_toks: \n",
    "            l2 = [stable_annotation[i] for i in stable_toks]\n",
    "        else:\n",
    "            l2 = []\n",
    "        print(l1)\n",
    "        print(l2)\n",
    "        if all(i == \"n\" for i in l1) and all(i == \"n\" for i in l2): #case 1\n",
    "            cases[0] +=1\n",
    "        elif l1[0] == \"b\" and all(i == \"n\" for i in l1[1:]) and not l2: #case 2\n",
    "            cases[1] +=1\n",
    "        elif l1[0] == \"r\" and all(i == \"n\" for i in l1[1:]) and not l2: #case 3\n",
    "            cases[2] +=1\n",
    "        elif l1[-1] == len(tokenizer(selfie))-1 and not l2:#truncation\n",
    "            cases[4] += 1\n",
    "        else:\n",
    "            print(\"unidentified case\")\n",
    "            print((toks, stable_toks))\n",
    "            print((l1, l2))"
   ]
  },
  {
   "cell_type": "code",
   "execution_count": 4,
   "metadata": {},
   "outputs": [],
   "source": [
    "def get_num(token):\n",
    "    return int(token[-2])"
   ]
  },
  {
   "cell_type": "code",
   "execution_count": 45,
   "metadata": {},
   "outputs": [],
   "source": [
    "def annotateSelfie(selfie):\n",
    "    tokens = tokenizer(selfie)\n",
    "\n",
    "    i = 0\n",
    "    annotation = [0 for i in range(len(tokens))]\n",
    "    while i < len(tokens):\n",
    "        tok = tokens[i]\n",
    "        do_nums = False\n",
    "        if tok in [\"[=Branch1]\", \"[Branch1]\", \"[#Branch1]\", \"[Branch2]\", \"[#Branch2]\", \"[=Branch2]\"]:\n",
    "            annotation[i] = \"b\" #branch\n",
    "            do_nums = True\n",
    "        elif tok in [\"[Ring1]\", \"[Ring2]\", \"[=Ring1]\", \"[=Ring2]\"]:\n",
    "            annotation[i] = \"r\" #ring\n",
    "            do_nums = True\n",
    "        else: \n",
    "            annotation[i] = \"a\" #atom\n",
    "        if do_nums:\n",
    "            num = get_num(tok)\n",
    "            for j in range(min(num, len(tokens)-i-1)):\n",
    "                annotation[i+j+1] = \"n\"\n",
    "            i+=num\n",
    "        i+=1\n",
    "    return annotation"
   ]
  },
  {
   "cell_type": "code",
   "execution_count": null,
   "metadata": {},
   "outputs": [],
   "source": [
    "samples = pd.read_csv(\"samples/sampled_selfies.csv\")\n",
    "num_truncated = 0\n",
    "num_changed = 0\n",
    "num_changed_sections = 0\n",
    "extra_ring = 0\n",
    "percent_changed = []\n",
    "percent_deleted = []\n",
    "percent_truncated = []\n",
    "changed_toks = []\n",
    "first_toks_trunc = []\n",
    "for i, row in samples.iterrows():\n",
    "    if i % 30000 == 0:\n",
    "        print(i)\n",
    "    selfie = row[\"sampled selfie\"]\n",
    "    stable_selfie = row[\"stable selfie\"]\n",
    "    if selfie != stable_selfie: num_changed +=1\n",
    "    if selfie != stable_selfie and \"_\" not in selfie:\n",
    "        selfie_toks = tokenizer(selfie)\n",
    "        selfie_annot = annotateSelfie(selfie)\n",
    "        stable_annot = annotateSelfie(stable_selfie)\n",
    "        unused_toks = get_unmatched_toks(selfie, stable_selfie)\n",
    "\n",
    "        #check for truncation\n",
    "        last_mismatch = unused_toks[-1]\n",
    "        selfie_ids = last_mismatch[0]\n",
    "        stable_ids = last_mismatch[1]\n",
    "        if selfie_ids[-1] == len(selfie_toks) - 1 and not stable_ids: #is truncated\n",
    "            num_truncated +=1\n",
    "            first_toks_trunc.append(selfie_annot[selfie_ids[0]])\n",
    "            percent_truncated.append(len(selfie_ids)/len(selfie_toks))\n",
    "        \n",
    "        temp = []\n",
    "        for toks in unused_toks:\n",
    "            temp1 = [selfie_annot[i] for i in toks[0]]\n",
    "            temp += temp1\n",
    "            temp2 = [stable_annot[i] for i in toks[1]]\n",
    "            if temp == ['b', 'n'] and temp2 == ['r', 'n']:\n",
    "                extra_ring += 1\n",
    "            num_changed_sections +=1\n",
    "    \n",
    "        percent_changed.append(len(temp)/len(selfie_toks))\n",
    "        changed_toks += temp\n",
    "        percent_deleted.append(1-len(tokenizer(stable_selfie))/len(selfie_toks))\n",
    "\n",
    "print(\"Fraction of each selfie changed\" + str(np.mean(percent_changed)))\n",
    "print(\"Fraction of each selfie deleted\" + str(np.mean(percent_deleted)))\n",
    "print(\"Perfect of selfies which are truly trunctated (ie lose atoms)\" + str(np.mean(percent_truncated)))\n",
    "c1 = Counter(first_toks_trunc)\n",
    "print(\"Number of tokens of each type at start of truncated section:\")\n",
    "print(c1)\n",
    "c2 = Counter(changed_toks)\n",
    "print(\"Number of tokens of each type at start of changed section:\")\n",
    "print(c2)\n",
    "print(\"Number of truncated mols\" + str(num_truncated))\n",
    "print(\"Number of changed mols\" + str(num_changed))\n",
    "print(\"Number of changed sections\" + str(num_changed_sections))\n",
    "print(\"Number of time a branch is changed into a ring\" + str(extra_ring))\n",
    "    \n",
    "        "
   ]
  },
  {
   "cell_type": "code",
   "execution_count": null,
   "metadata": {},
   "outputs": [],
   "source": [
    "from rdkit import Chem\n",
    "\n",
    "samples = pd.read_csv(\"samples/sampled_selfies.csv\")\n",
    "samples = samples[samples[\"augmented\"] == False] #only unstable selfies will have different number of rings/branches\n",
    "num_rings_deleted = []\n",
    "num_branches_deleted = []\n",
    "atom_swaps = []\n",
    "atom_deletes = []\n",
    "num_swaps = []\n",
    "r_b_both_del = 0\n",
    "non_r_b_mols = 0 #num of selfies with same number of ring/branch as stable selfie\n",
    "prob = 0\n",
    "\n",
    "z = Counter()\n",
    "\n",
    "\n",
    "for i, row in samples.iterrows():\n",
    "    selfie = row[\"sampled selfie\"]\n",
    "    stable = row[\"stable selfie\"]\n",
    "    \n",
    "    try:\n",
    "        #selfies num rings\n",
    "        \n",
    "        sf_annots = ''.join(annotateSelfie(selfie))\n",
    "        sf_num_rings = sf_annots.count('r')\n",
    "        sf_num_branches = sf_annots.count('b')\n",
    "\n",
    "        #stable num rings\n",
    "        st_annots = ''.join(annotateSelfie(stable))\n",
    "        st_num_rings = st_annots.count('r')\n",
    "        st_num_branches = st_annots.count('b')\n",
    "        \n",
    "        num_rings_deleted.append(sf_num_rings - st_num_rings)\n",
    "        num_branches_deleted.append(sf_num_branches - st_num_branches)\n",
    "        if sf_num_rings - st_num_rings > 0 and sf_num_branches - st_num_branches > 0:\n",
    "            r_b_both_del +=1\n",
    "        if sf_num_rings == st_num_rings and sf_num_branches == st_num_branches:\n",
    "            non_r_b_mols +=1\n",
    "            unused_toks = get_unmatched_toks(selfie, stable)\n",
    "            #if len(st_annots) == len(sf_annots):\n",
    "            swapped = [repr(([sf_annots[i] for i in toks[0]], [st_annots[i] for i in toks[1]]))  for toks in unused_toks]\n",
    "            c = Counter()\n",
    "            c.update(swapped)\n",
    "            z.update(swapped)\n",
    "            num_swap = c.get(\"(['n'], ['n'])\", 0)\n",
    "            num_swaps.append(num_swap)\n",
    "            atom_swap = c.get(\"(['a'], ['a'])\", 0)\n",
    "            atom_swaps.append(atom_swap)\n",
    "            atom_delete = c.get(\"(['a'], [])\", 0)\n",
    "            atom_deletes.append(atom_delete)\n",
    "                #for toks in unused_toks:\n",
    "                    #if len(toks[0]) == 1 and len(toks[1]) == 1:\n",
    "                        #if toks[0][0] == 'a' and toks[1][0] == 'a':\n",
    "                #swapped = [([sf_annots[i] for i in toks[0]], [st_annots[i] for i in toks[1]])  for toks in unused_toks]\n",
    "                #print(swapped)\n",
    "    except:\n",
    "        prob+=1\n",
    "        pass\n",
    "    "
   ]
  },
  {
   "cell_type": "code",
   "execution_count": 47,
   "metadata": {},
   "outputs": [
    {
     "name": "stdout",
     "output_type": "stream",
     "text": [
      "Swaps collected:\n",
      "[(\"(['n'], ['n'])\", 22833), (\"(['a'], [])\", 7278), (\"(['a'], ['a'])\", 7129), (\"(['r', 'n', 'a'], ['a'])\", 685), (\"(['b', 'n'], ['b', 'n', 'n'])\", 680), (\"(['b', 'n', 'n'], ['b', 'n'])\", 650), (\"(['b'], ['b'])\", 538), (\"(['r'], [])\", 459), (\"(['a', 'a'], [])\", 441), (\"(['r', 'n'], [])\", 407), (\"(['a', 'a'], ['a'])\", 250), (\"(['a', 'r', 'n', 'n'], [])\", 148), (\"(['r', 'n', 'n'], [])\", 128), (\"(['a', 'r', 'n'], [])\", 70), (\"(['r', 'n', 'n', 'a'], ['a'])\", 62), (\"(['a', 'r', 'n', 'a'], ['a', 'a'])\", 58), (\"(['a', 'a'], ['a', 'a'])\", 53), (\"(['a', 'a', 'a'], [])\", 45), (\"(['n'], [])\", 41), (\"(['n', 'a'], ['n'])\", 38)]\n",
      "\n",
      "\n",
      "Total number of mols: 171757\n",
      "Fraction of mols with no branch/ring # change: 0.18669981427248963\n",
      "Fraction of mols (with no branch/ring # change) with number swap: 0.667602207877257\n",
      "Fraction of mols (with no branch/ring # change) with atom swap: 0.2186359809149593\n",
      "Fraction of mols (with no branch/ring # change) with atom deletion: 0.22381264228022577\n",
      "Fraction of mols (with no branch/ring # change) with no atom/num swap or atom delete: 0.07393894034365547\n",
      "Number of mols that threw errors: 14\n"
     ]
    }
   ],
   "source": [
    "\n",
    "print(\"Swaps collected:\")\n",
    "print(z.most_common(20))\n",
    "print(\"\\n\")\n",
    "print(\"Total number of mols: \" + str(len(samples)))\n",
    "print(\"Fraction of mols with no branch/ring # change: \" + str(non_r_b_mols/len(samples)))\n",
    "num_mols_numswap = len([swap for swap in num_swaps if swap>0])\n",
    "print(\"Fraction of mols (with no branch/ring # change) with number swap: \" + str(num_mols_numswap/non_r_b_mols))\n",
    "num_mols_atomswap = len([swap for swap in atom_swaps if swap>0])\n",
    "print(\"Fraction of mols (with no branch/ring # change) with atom swap: \" + str(num_mols_atomswap/non_r_b_mols))\n",
    "num_mols_atomsdel = len([delete for delete in atom_deletes if delete>0])\n",
    "print(\"Fraction of mols (with no branch/ring # change) with atom deletion: \" + str(num_mols_atomsdel/non_r_b_mols))\n",
    "\n",
    "count = 0\n",
    "for i in range(non_r_b_mols):\n",
    "    if num_swaps[i]==0 and atom_swaps[i]==0 and atom_deletes[i]==0:\n",
    "        count+=1\n",
    "print(\"Fraction of mols (with no branch/ring # change) with no atom/num swap or atom delete: \" + str(count/non_r_b_mols))\n",
    "\n",
    "print(\"Number of mols that threw errors: \" + str(prob))\n",
    "\n"
   ]
  },
  {
   "cell_type": "code",
   "execution_count": 48,
   "metadata": {},
   "outputs": [
    {
     "name": "stdout",
     "output_type": "stream",
     "text": [
      "Counter({1: 97558, 0: 52466, 2: 19581, 3: 2011, 4: 114, -1: 11, 5: 2})\n",
      "Fraction (out of all valid selfies) of mols that lose rings: 0.6944446061848226\n",
      "Fraction (out of all unstable selfies) of mols that lose rings: 0.6943880016534988\n",
      "Fraction (out of all unstable selfies) of mols that lose/gain rings: 0.6944520456225947\n"
     ]
    }
   ],
   "source": [
    "#Counting number of molecules with rings deleted\n",
    "rings_deleted = Counter()\n",
    "rings_deleted.update(num_rings_deleted)\n",
    "print(rings_deleted)\n",
    "num_unstable_selfies = len(samples[samples[\"augmented\"] == False])\n",
    "num_mols_lost_ring = sum([v for k,v in rings_deleted.items() if k > 0])\n",
    "num_mols_ring_change = sum([v for k,v in rings_deleted.items() if k != 0])\n",
    "total = sum([v for k,v in rings_deleted.items()])\n",
    "print(\"Fraction (out of all valid selfies) of mols that lose rings: \" + str(num_mols_lost_ring/total))\n",
    "print(\"Fraction (out of all unstable selfies) of mols that lose rings: \" + str(num_mols_lost_ring/num_unstable_selfies))\n",
    "print(\"Fraction (out of all unstable selfies) of mols that lose/gain rings: \" + str(num_mols_ring_change/num_unstable_selfies))"
   ]
  },
  {
   "cell_type": "code",
   "execution_count": 49,
   "metadata": {},
   "outputs": [
    {
     "name": "stdout",
     "output_type": "stream",
     "text": [
      "Counter({0: 134956, 1: 32832, 2: 3141, 3: 571, 4: 173, 5: 47, 6: 14, -1: 8, 7: 1})\n",
      "Fraction (out of all valid selfies) of mols that lose branches: 0.2141513773487129\n",
      "Fraction (out of all unstable selfies) of mols that lose branches: 0.2141339217615585\n",
      "Fraction (out of all unstable selfies) of mols that lose/gain branche: 0.21418049919362822\n"
     ]
    }
   ],
   "source": [
    "#Counting number of molecules with branched deleted\n",
    "branches_deleted = Counter()\n",
    "branches_deleted.update(num_branches_deleted)\n",
    "print(branches_deleted)\n",
    "num_mols = sum([v for k,v in branches_deleted.items() if k > 0])\n",
    "total = sum([v for k,v in branches_deleted.items()])\n",
    "num_mols_branch_change = sum([v for k,v in branches_deleted.items() if k != 0])\n",
    "print(\"Fraction (out of all valid selfies) of mols that lose branches: \" + str(num_mols/total))\n",
    "print(\"Fraction (out of all unstable selfies) of mols that lose branches: \" + str(num_mols/num_unstable_selfies))\n",
    "print(\"Fraction (out of all unstable selfies) of mols that lose/gain branche: \" + str(num_mols_branch_change/num_unstable_selfies))\n"
   ]
  },
  {
   "cell_type": "code",
   "execution_count": 50,
   "metadata": {},
   "outputs": [
    {
     "name": "stdout",
     "output_type": "stream",
     "text": [
      "Fraction of unstable selfies losing both rings and branches: 0.09530324819366896\n"
     ]
    }
   ],
   "source": [
    "print(\"Fraction of unstable selfies losing both rings and branches: \" + str(r_b_both_del/num_unstable_selfies))"
   ]
  },
  {
   "cell_type": "code",
   "execution_count": null,
   "metadata": {},
   "outputs": [],
   "source": [
    "#printing alignment to looks for examples of 6 cases\n",
    "\n",
    "samples = pd.read_csv(\"samples/sampled_selfies.csv\")\n",
    "for i, row in samples.iterrows():\n",
    "    selfie = row[\"sampled selfie\"]\n",
    "    stable_selfie = row[\"stable selfie\"]\n",
    "    print(selfie)\n",
    "    print(stable_selfie)\n",
    "    if selfie != stable_selfie and \"_\" not in selfie:\n",
    "        unused_toks = get_unmatched_toks(selfie, stable_selfie)\n",
    "        print(unused_toks)\n",
    "        identify_situation(unused_toks, selfie, stable_selfie)\n"
   ]
  },
  {
   "cell_type": "code",
   "execution_count": 44,
   "metadata": {},
   "outputs": [
    {
     "name": "stdout",
     "output_type": "stream",
     "text": [
      "['a', 'a', 'b', 'n', 'a', 'b', 'n', 'a', 'a', 'a', 'a', 'a', 'a', 'r', 'n', 'a', 'a', 'a', 'a', 'b', 'n', 'a', 'a', 'a', 'a', 'a', 'a', 'r', 'n', 'a', 'r', 'n', 'r', 'n', 'a', 'r', 'n']\n",
      "['a', 'a', 'b', 'n', 'a', 'b', 'n', 'a', 'a', 'a', 'a', 'a', 'a', 'r', 'n', 'a', 'a', 'a', 'a', 'b', 'n', 'a', 'a', 'a', 'a', 'a', 'a', 'r', 'n', 'a', 'a', 'b', 'n', 'n', 'a']\n"
     ]
    }
   ],
   "source": [
    "sf = \"[O][=S][=Branch1][C][=O][Branch1][=Branch2][C][=C][C][=C][C][=C][Ring1][=Branch1][N][C][C][=C][Branch1][=C][C][=C][C][=C][N][=C][Ring1][=Branch1][C][Ring1] [#Branch2][Ring1][#Branch2][C][Ring1][#C]\"\n",
    "annot = annotateSelfie(sf)\n",
    "print(annot)\n",
    "\n",
    "st = \"[O][=S][=Branch1][C][=O][Branch1][=Branch2][C][=C][C][=C][C][=C][Ring1][=Branch1][N][C][C][=C][Branch1][N] [C][=C][C][=C][N][=C][Ring1][=Branch1][C][=Ring1][#Branch2][C][Ring1][#C]\"\n",
    "annot = annotateSelfie(st)\n",
    "print(annot)"
   ]
  },
  {
   "cell_type": "code",
   "execution_count": 6,
   "metadata": {},
   "outputs": [],
   "source": [
    "############## Everything below is just for visualizing sampled molecules ###############\n",
    "\n",
    "from rdkit import Chem\n",
    "from rdkit.Chem.Draw import IPythonConsole\n",
    "from rdkit.Chem import Draw"
   ]
  },
  {
   "cell_type": "code",
   "execution_count": 9,
   "metadata": {},
   "outputs": [
    {
     "name": "stdout",
     "output_type": "stream",
     "text": [
      "C1C(=O)C=C1CCCN(C(=O)NCC)C\n",
      "4\n"
     ]
    },
    {
     "data": {
      "image/png": "[encoded data removed]",
      "text/plain": [
       "<rdkit.Chem.rdchem.Mol at 0x7fec80a482e0>"
      ]
     },
     "execution_count": 9,
     "metadata": {},
     "output_type": "execute_result"
    }
   ],
   "source": [
    "selfie=\"[C][C][=Branch1][C][=O][C][=C][Branch1][P][C][C][C][N][Branch1][#Branch2][C][=Branch1][C][=O][N][C][C][Ring1][Branch1][C][Ring1][#Branch2]\"\n",
    "smi=sf.decoder(selfie)\n",
    "print(smi)\n",
    "mol=Chem.MolFromSmiles(\"CC(C)C1=C2OC(=O)N(C(O)C3CC3)C=C1O2\")\n",
    "ssr=Chem.GetSymmSSSR(mol)\n",
    "print(len(ssr))\n",
    "mol"
   ]
  },
  {
   "cell_type": "code",
   "execution_count": 18,
   "metadata": {},
   "outputs": [
    {
     "name": "stdout",
     "output_type": "stream",
     "text": [
      "C1C(=O)C=C1CCCN(C(=O)NCC)C\n"
     ]
    },
    {
     "data": {
      "image/png": "[encoded data removed]",
      "text/plain": [
       "<rdkit.Chem.rdchem.Mol at 0x7fcf7c81ffa0>"
      ]
     },
     "execution_count": 18,
     "metadata": {},
     "output_type": "execute_result"
    }
   ],
   "source": [
    "selfie=\"[C][C][=Branch1][C][=O][C][=C][Ring1][Branch1][C][C][C][N][Branch1][Branch2][C][=Branch1][C][=O][N][C][C][C]\"\n",
    "smi=sf.decoder(selfie)\n",
    "print(smi)\n",
    "mol=Chem.MolFromSmiles(smi)\n",
    "mol"
   ]
  },
  {
   "cell_type": "code",
   "execution_count": 33,
   "metadata": {},
   "outputs": [
    {
     "name": "stdout",
     "output_type": "stream",
     "text": [
      "[AttributionMap(index=0, token='C', attribution=[Attribution(index=0, token='[C]')]), AttributionMap(index=4, token='O', attribution=[Attribution(index=1, token='[O]')]), AttributionMap(index=6, token='C', attribution=[Attribution(index=2, token='[C]')]), AttributionMap(index=8, token='C', attribution=[Attribution(index=3, token='[C]')]), AttributionMap(index=10, token='=', attribution=[Attribution(index=4, token='[=Branch1]'), Attribution(index=6, token='[=O]')]), AttributionMap(index=11, token='O', attribution=[Attribution(index=4, token='[=Branch1]'), Attribution(index=6, token='[=O]')]), AttributionMap(index=14, token='N', attribution=[Attribution(index=7, token='[N]')]), AttributionMap(index=16, token='C', attribution=[Attribution(index=8, token='[C]')]), AttributionMap(index=18, token='C', attribution=[Attribution(index=9, token='[C]')]), AttributionMap(index=20, token='O', attribution=[Attribution(index=10, token='[O]')]), AttributionMap(index=22, token='C', attribution=[Attribution(index=11, token='[C]')]), AttributionMap(index=26, token='S', attribution=[Attribution(index=12, token='[Branch1]'), Attribution(index=14, token='[S]')]), AttributionMap(index=28, token='C', attribution=[Attribution(index=12, token='[Branch1]'), Attribution(index=15, token='[C]')]), AttributionMap(index=30, token='C', attribution=[Attribution(index=12, token='[Branch1]'), Attribution(index=16, token='[C]')]), AttributionMap(index=32, token='=', attribution=[Attribution(index=12, token='[Branch1]'), Attribution(index=17, token='[=Branch1]'), Attribution(index=19, token='[=O]')]), AttributionMap(index=33, token='O', attribution=[Attribution(index=12, token='[Branch1]'), Attribution(index=17, token='[=Branch1]'), Attribution(index=19, token='[=O]')]), AttributionMap(index=36, token='C', attribution=[Attribution(index=12, token='[Branch1]'), Attribution(index=20, token='[C]')]), AttributionMap(index=39, token='=', attribution=[Attribution(index=12, token='[Branch1]'), Attribution(index=21, token='[=C]')]), AttributionMap(index=40, token='C', attribution=[Attribution(index=12, token='[Branch1]'), Attribution(index=21, token='[=C]')]), AttributionMap(index=42, token='C', attribution=[Attribution(index=12, token='[Branch1]'), Attribution(index=22, token='[C]')]), AttributionMap(index=43, token='=', attribution=[Attribution(index=12, token='[Branch1]'), Attribution(index=23, token='[=C]')]), AttributionMap(index=44, token='C', attribution=[Attribution(index=12, token='[Branch1]'), Attribution(index=23, token='[=C]')]), AttributionMap(index=46, token='C', attribution=[Attribution(index=12, token='[Branch1]'), Attribution(index=24, token='[C]')]), AttributionMap(index=47, token='=', attribution=[Attribution(index=12, token='[Branch1]'), Attribution(index=25, token='[=C]')]), AttributionMap(index=48, token='C', attribution=[Attribution(index=12, token='[Branch1]'), Attribution(index=25, token='[=C]')]), AttributionMap(index=52, token='C', attribution=[Attribution(index=12, token='[Branch1]'), Attribution(index=28, token='[C]')])]\n",
      "C1OCC(=O)NCCOC1SCC(=O)C2=CC=CC=C2C\n"
     ]
    }
   ],
   "source": [
    "selfie = \"[C][O][C][C][=Branch1][C][=O][N][C][C][O][C][Branch1][S][S][C][C][=Branch1][C][=O][C][=C][C][=C][C][=C][Ring1][=Branch1][C][Ring1][S]\"\n",
    "smi, attr_map = sf.decoder(selfie, attribute=True)\n",
    "\n",
    "print(attr_map)\n",
    "print(smi)"
   ]
  },
  {
   "cell_type": "code",
   "execution_count": 9,
   "metadata": {},
   "outputs": [
    {
     "name": "stdout",
     "output_type": "stream",
     "text": [
      "True\n"
     ]
    }
   ],
   "source": [
    "toks = ['b', 'n']\n",
    "print('b' in toks )"
   ]
  }
 ],
 "metadata": {
  "kernelspec": {
   "display_name": "Python 3",
   "language": "python",
   "name": "python3"
  },
  "language_info": {
   "codemirror_mode": {
    "name": "ipython",
    "version": 3
   },
   "file_extension": ".py",
   "mimetype": "text/x-python",
   "name": "python",
   "nbconvert_exporter": "python",
   "pygments_lexer": "ipython3",
   "version": "3.8.8"
  },
  "orig_nbformat": 4
 },
 "nbformat": 4,
 "nbformat_minor": 2
}
