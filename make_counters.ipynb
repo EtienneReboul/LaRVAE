{
 "cells": [
  {
   "cell_type": "code",
   "execution_count": null,
   "metadata": {},
   "outputs": [],
   "source": [
    "import pandas as pd\n",
    "import numpy as np\n",
    "from collections import Counter\n",
    "import pickle as pkl\n",
    "from rdkit import Chem\n",
    "\n",
    "samples = pd.read_csv(\"samples/sampled_selfies_no_overload.csv\")['smile']\n",
    "c = Counter()\n",
    "count = 0\n",
    "\n",
    "for i, mol in enumerate(samples):\n",
    "    try:\n",
    "        canon = Chem.CanonSmiles(mol)\n",
    "        #if canon != mol:\n",
    "            #print(mol)\n",
    "            #print(canon + str(\"/n\"))\n",
    "        c.update([canon])\n",
    "    except Exception as e:\n",
    "        count+=1\n",
    "print(\"can't canonicalize....\")\n",
    "print(count/300000)\n",
    "    \n",
    "pkl.dump(c, open(\"samples/no_overload_counter.pkl\", \"wb\" ) )\n",
    "\n"
   ]
  },
  {
   "cell_type": "code",
   "execution_count": null,
   "metadata": {},
   "outputs": [],
   "source": [
    "with open(\"samples/no_overload_counter.pkl\", \"rb\") as f:\n",
    "    smiles_counter = pkl.load(f)\n",
    "\n",
    "print(smiles_counter)\n",
    "print(len(smiles_counter)/300000)"
   ]
  }
 ],
 "metadata": {
  "language_info": {
   "name": "python"
  },
  "orig_nbformat": 4
 },
 "nbformat": 4,
 "nbformat_minor": 2
}
