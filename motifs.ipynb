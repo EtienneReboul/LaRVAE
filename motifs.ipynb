{
 "cells": [
  {
   "cell_type": "code",
   "execution_count": null,
   "metadata": {},
   "outputs": [],
   "source": [
    "import numpy as np\n",
    "import pandas as pd\n",
    "import seaborn as sns\n",
    "import matplotlib as plt\n",
    "import regex as re\n",
    "import pickle as pkl\n",
    "from transvae.data import vae_data_gen \n",
    "from collections import Counter\n",
    "\n",
    "\n",
    "def tokenizer(mol,mol_encoding='selfies'):\n",
    "    if mol_encoding=='smiles':\n",
    "        \"Tokenizes SMILES string\"\n",
    "        pattern =  \"(\\[[^\\]]+]|Br?|Cl?|N|O|S|P|F|I|b|c|n|o|s|p|\\(|\\)|\\.|=|#|-|\\+|\\\\\\\\|\\/|_|:|~|@|\\?|>|\\*|\\$|\\%[0-9]{2}|[0-9])\"\n",
    "        regezz = re.compile(pattern)\n",
    "        tokens = [token for token in regezz.findall(mol)]\n",
    "    elif mol_encoding=='selfies':\n",
    "        tokens=[block+\"]\" for block in mol.split(\"]\")][:-1]\n",
    "    else:\n",
    "        raise NameError('expected mol encoding to be smiles or selfies')\n",
    "    assert mol == ''.join(tokens), (\"{} could not be joined\".format(mol))\n",
    "    return tokens\n",
    "\n"
   ]
  },
  {
   "cell_type": "code",
   "execution_count": null,
   "metadata": {},
   "outputs": [],
   "source": [
    "#Print 20 most common motifs for each of lengths 4-20 for SMILES in MOSES dataset\n",
    "\n",
    "moses_smiles = pd.read_csv(\"data/moses_smiles_train.csv\")[\"smiles\"]\n",
    "\n",
    "counters = [Counter() for k in range(21)]\n",
    "j = 0\n",
    "for smile in moses_smiles:\n",
    "    tokens = tokenizer(smile, mol_encoding=\"smiles\")\n",
    "    for l in range(4, min(len(tokens), 21)): #length of motif\n",
    "        motifs = []\n",
    "        for i in range(0, len(tokens)-l+1): #start index of motif\n",
    "            motifs.append(''.join(tokens[i: i + l]))\n",
    "        counters[l].update(motifs)\n",
    "        del(motifs)\n",
    "    j +=1\n",
    "    if j % 50000 == 0: print(j)\n",
    "    \n",
    "for i in range(4, 21):\n",
    "    print(counters[i].most_common(20))"
   ]
  },
  {
   "cell_type": "code",
   "execution_count": null,
   "metadata": {},
   "outputs": [],
   "source": [
    "#Print 20 most common motifs for each of lengths 4-20 for SELFIES in MOSES dataset\n",
    "\n",
    "moses_selfies = pd.read_csv(\"data/moses_train.csv\")[\"selfies\"]\n",
    "\n",
    "counters = [Counter() for k in range(21)]\n",
    "j = 0\n",
    "for selfie in moses_selfies:\n",
    "    tokens = tokenizer(selfie, mol_encoding=\"selfies\")\n",
    "    for l in range(4, min(len(tokens), 21)): #length of motif\n",
    "        motifs = []\n",
    "        for i in range(0, len(tokens)-l+1): #start index of motif\n",
    "            motifs.append(''.join(tokens[i: i + l]))\n",
    "        counters[l].update(motifs)\n",
    "        del(motifs)\n",
    "    j +=1\n",
    "    if j % 50000 == 0: print(j)\n",
    "    \n",
    "for i in range(4, 21):\n",
    "    print(counters[i].most_common(20))"
   ]
  }
 ],
 "metadata": {
  "language_info": {
   "name": "python"
  },
  "orig_nbformat": 4
 },
 "nbformat": 4,
 "nbformat_minor": 2
}
